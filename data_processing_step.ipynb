{
 "cells": [
  {
   "cell_type": "code",
   "execution_count": 28,
   "id": "eba132b7",
   "metadata": {},
   "outputs": [],
   "source": [
    "import pandas as pd\n",
    "import numpy as np\n",
    "import pickle\n",
    "import tensorflow as tf\n",
    "import os\n",
    "import cv2"
   ]
  },
  {
   "cell_type": "code",
   "execution_count": 29,
   "id": "eb6ecb9b",
   "metadata": {},
   "outputs": [],
   "source": [
    "DIRECTORY=r'C:\\Users\\hp\\Desktop\\Emotion_detaection\\dataset\\test'"
   ]
  },
  {
   "cell_type": "code",
   "execution_count": 30,
   "id": "ff05ebf4",
   "metadata": {},
   "outputs": [
    {
     "data": {
      "text/plain": [
       "3"
      ]
     },
     "execution_count": 30,
     "metadata": {},
     "output_type": "execute_result"
    }
   ],
   "source": [
    "CATEGORIES=os.listdir(DIRECTORY)\n",
    "CATEGORIES\n",
    "len(CATEGORIES)\n"
   ]
  },
  {
   "cell_type": "code",
   "execution_count": 31,
   "id": "5485cb1f",
   "metadata": {},
   "outputs": [
    {
     "data": {
      "text/plain": [
       "['angry', 'happy', 'neutral']"
      ]
     },
     "execution_count": 31,
     "metadata": {},
     "output_type": "execute_result"
    }
   ],
   "source": [
    "CLASS_NAMES=CATEGORIES\n",
    "CLASS_NAMES"
   ]
  },
  {
   "cell_type": "code",
   "execution_count": 32,
   "id": "68e20100",
   "metadata": {},
   "outputs": [],
   "source": [
    "data=[]\n",
    "X=[]\n",
    "Y=[]\n",
    "Image_size=100\n",
    "for category in CATEGORIES:\n",
    "    folders_paths=os.path.join(DIRECTORY,category)\n",
    "    \n",
    "    for img in os.listdir(folders_paths):\n",
    "        images_paths=os.path.join(folders_paths,img)\n",
    "        \n",
    "        label=CATEGORIES.index(category)\n",
    "        image=cv2.imread(images_paths)\n",
    "        \n",
    "        resized_image=cv2.resize(image,(Image_size,Image_size))\n",
    "        X.append(resized_image)\n",
    "        Y.append(label)\n",
    "        \n",
    "\n",
    "        \n",
    "    \n",
    "   \n",
    "\n"
   ]
  },
  {
   "cell_type": "code",
   "execution_count": 33,
   "id": "8abd7989",
   "metadata": {},
   "outputs": [],
   "source": [
    "import pickle"
   ]
  },
  {
   "cell_type": "code",
   "execution_count": 34,
   "id": "4165c66b",
   "metadata": {},
   "outputs": [],
   "source": [
    "X=np.array(X)"
   ]
  },
  {
   "cell_type": "code",
   "execution_count": 35,
   "id": "95f9e489",
   "metadata": {},
   "outputs": [],
   "source": [
    "Y=np.array(Y)"
   ]
  },
  {
   "cell_type": "code",
   "execution_count": 36,
   "id": "e032e824",
   "metadata": {},
   "outputs": [
    {
     "data": {
      "text/plain": [
       "(3965, 100, 100, 3)"
      ]
     },
     "execution_count": 36,
     "metadata": {},
     "output_type": "execute_result"
    }
   ],
   "source": [
    "X.shape"
   ]
  },
  {
   "cell_type": "code",
   "execution_count": 37,
   "id": "f10b6260",
   "metadata": {},
   "outputs": [
    {
     "data": {
      "text/plain": [
       "3965"
      ]
     },
     "execution_count": 37,
     "metadata": {},
     "output_type": "execute_result"
    }
   ],
   "source": [
    "len(X)"
   ]
  },
  {
   "cell_type": "code",
   "execution_count": 38,
   "id": "27e665df",
   "metadata": {},
   "outputs": [
    {
     "data": {
      "text/plain": [
       "3965"
      ]
     },
     "execution_count": 38,
     "metadata": {},
     "output_type": "execute_result"
    }
   ],
   "source": [
    "len(Y)"
   ]
  },
  {
   "cell_type": "code",
   "execution_count": 39,
   "id": "45c8c16c",
   "metadata": {},
   "outputs": [],
   "source": [
    "pickle.dump(X,open('inputs.pkl' , 'wb'))\n",
    "pickle.dump(Y,open('labels.pkl' , 'wb'))"
   ]
  },
  {
   "cell_type": "code",
   "execution_count": null,
   "id": "68edc630",
   "metadata": {},
   "outputs": [],
   "source": []
  },
  {
   "cell_type": "code",
   "execution_count": null,
   "id": "cc5ad6ee",
   "metadata": {},
   "outputs": [],
   "source": []
  }
 ],
 "metadata": {
  "kernelspec": {
   "display_name": "Python 3 (ipykernel)",
   "language": "python",
   "name": "python3"
  },
  "language_info": {
   "codemirror_mode": {
    "name": "ipython",
    "version": 3
   },
   "file_extension": ".py",
   "mimetype": "text/x-python",
   "name": "python",
   "nbconvert_exporter": "python",
   "pygments_lexer": "ipython3",
   "version": "3.8.12"
  }
 },
 "nbformat": 4,
 "nbformat_minor": 5
}
